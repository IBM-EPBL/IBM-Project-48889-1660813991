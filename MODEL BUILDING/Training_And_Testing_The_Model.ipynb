{
  "nbformat": 4,
  "nbformat_minor": 0,
  "metadata": {
    "colab": {
      "provenance": [],
      "collapsed_sections": []
    },
    "kernelspec": {
      "name": "python3",
      "display_name": "Python 3"
    },
    "language_info": {
      "name": "python"
    }
  },
  "cells": [
    {
      "cell_type": "markdown",
      "source": [
        "1.Training And Testing The Model"
      ],
      "metadata": {
        "id": "clyte7hjTh91"
      }
    },
    {
      "cell_type": "code",
      "source": [
        "XGBoost=xgboost.XGBRFClassifier()\n",
        "Rand_forst=sklearn.ensemble.RandomForestClassifier()\n",
        "svm=sklearn.svm.SVC()\n",
        "Dtree=sklearn.ensemble.GrandientBoostingClassifier()\n",
        "GBM=sklearn.ensemble.GradientBoostingClassifier()\n",
        "log=sklearn_linear_model.LogisticRegression()"
      ],
      "metadata": {
        "id": "n0LJGP4jVAUO"
      },
      "execution_count": null,
      "outputs": []
    },
    {
      "cell_type": "code",
      "source": [
        "XGBoost.fit(x_train,y_train)\n",
        "Rand_forest.fit(x_train,y_train)\n",
        "svm.fit(x_train,y_train)\n",
        "Dtree.fit(x_train,y_train)\n",
        "GBM.fit(x_train,y_train)\n",
        "log,fit(x_train,y_train)"
      ],
      "metadata": {
        "id": "csrMqz9MWrmD"
      },
      "execution_count": null,
      "outputs": []
    },
    {
      "cell_type": "code",
      "source": [
        "p1=XGBoost.predict(x_train)\n",
        "p2=Rand_forest.predict(x_train)\n",
        "p3=svm.predict(x_train)\n",
        "p4=Dtree.predict(x_train)\n",
        "p5=GBM.predict(x_train)\n",
        "p6=log.predict(x_train)"
      ],
      "metadata": {
        "id": "lr73XU3-X1ax"
      },
      "execution_count": null,
      "outputs": []
    },
    {
      "cell_type": "code",
      "source": [
        "print(\"xgboost:\",metrices.accuracy_score(y_train,p1))\n",
        "print(\"Rand_forest:\",metrices.accuracy_score(y_train,p2))\n",
        "print(\"svm:\"metrices.accuracy_score(y_train,p3))\n",
        "print(\"Dtree:\",metrices.accuracy_score(y_train,p4))\n",
        "print(\"GBM:\",metrices.accuracy_score(y_train_p5))\n",
        "print(\"log:\",metrices.accuracy_score(y_train.p6))"
      ],
      "metadata": {
        "id": "gOwV4gMEY-eA"
      },
      "execution_count": null,
      "outputs": []
    }
  ]
}