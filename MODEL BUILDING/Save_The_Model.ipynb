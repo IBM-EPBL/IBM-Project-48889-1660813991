{
  "nbformat": 4,
  "nbformat_minor": 0,
  "metadata": {
    "colab": {
      "provenance": []
    },
    "kernelspec": {
      "name": "python3",
      "display_name": "Python 3"
    },
    "language_info": {
      "name": "python"
    }
  },
  "cells": [
    {
      "cell_type": "markdown",
      "source": [
        "1.Save The Model"
      ],
      "metadata": {
        "id": "pvLVxrn5xxFj"
      }
    },
    {
      "cell_type": "code",
      "source": [
        "import pickle"
      ],
      "metadata": {
        "id": "794KFEnIx2dT"
      },
      "execution_count": null,
      "outputs": []
    },
    {
      "cell_type": "code",
      "source": [
        "pickle.dump(RFC,open('rainfall.pkl','wb'))\n",
        "pickle.dump(LE,open('encoder,pkl','wb'))\n",
        "pickle.dump(imp_mode,open('imputer.pkl','wb')\n",
        "pickle.dump(sc,open('scale.pkl','wd'))"
      ],
      "metadata": {
        "id": "D5ocWjKcx_ES"
      },
      "execution_count": null,
      "outputs": []
    }
  ]
}