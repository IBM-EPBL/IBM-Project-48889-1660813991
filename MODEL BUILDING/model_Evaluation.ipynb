{
  "nbformat": 4,
  "nbformat_minor": 0,
  "metadata": {
    "colab": {
      "provenance": []
    },
    "kernelspec": {
      "name": "python3",
      "display_name": "Python 3"
    },
    "language_info": {
      "name": "python"
    }
  },
  "cells": [
    {
      "cell_type": "markdown",
      "source": [
        "2.Model Evaluation"
      ],
      "metadata": {
        "id": "65lqx99fotAq"
      }
    },
    {
      "cell_type": "code",
      "source": [
        "import sklearn.metrics as metrics"
      ],
      "metadata": {
        "id": "1EOB16cGoyn2"
      },
      "execution_count": 1,
      "outputs": []
    },
    {
      "cell_type": "code",
      "source": [
        "print(metrics.accuracy_score(y_Train,p1))"
      ],
      "metadata": {
        "id": "Pa-DLaeKpC1L"
      },
      "execution_count": null,
      "outputs": []
    },
    {
      "cell_type": "code",
      "source": [
        "print(metrics.accuracy_score(y_test,p2)"
      ],
      "metadata": {
        "id": "7Qz_3dvCpbPN"
      },
      "execution_count": null,
      "outputs": []
    }
  ]
}